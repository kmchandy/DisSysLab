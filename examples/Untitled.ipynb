{
 "cells": [
  {
   "cell_type": "code",
   "execution_count": 1,
   "id": "4f6f8fc7-f59a-4b62-a7d8-dcb5931d7f9a",
   "metadata": {},
   "outputs": [],
   "source": [
    "# dsl.examples.simple_pipeline\n",
    "\n",
    "from dsl import network\n",
    "\n",
    "# Define Python functions.\n",
    "\n",
    "\n",
    "def src(items=[\"hello\", \"world\"]):\n",
    "    for item in items:\n",
    "        yield item\n",
    "\n",
    "\n",
    "def t_0(v): return v.upper()\n",
    "def t_1(v): return v + \"!!\"\n",
    "\n",
    "\n",
    "results = []\n",
    "def snk(v): results.append(v)\n",
    "\n",
    "\n",
    "# Define and run the graph\n",
    "g = network([(src, t_0), (t_0, t_1), (t_1, snk)])\n",
    "g.run_network()\n",
    "\n",
    "if __name__ == \"__main__\":\n",
    "    assert results == [\"HELLO!!\", \"WORLD!!\"]\n"
   ]
  },
  {
   "cell_type": "code",
   "execution_count": 2,
   "id": "b1db8cb3-80d5-4c09-b9fe-a16d775263ca",
   "metadata": {},
   "outputs": [
    {
     "name": "stdout",
     "output_type": "stream",
     "text": [
      "results =['HELLO!!', 'WORLD!!']\n"
     ]
    }
   ],
   "source": [
    "print(f\"results ={results}\")"
   ]
  },
  {
   "cell_type": "code",
   "execution_count": null,
   "id": "f2e37889-66e0-4114-bbf5-f787913f6290",
   "metadata": {},
   "outputs": [],
   "source": []
  }
 ],
 "metadata": {
  "kernelspec": {
   "display_name": "Python 3 (ipykernel)",
   "language": "python",
   "name": "python3"
  },
  "language_info": {
   "codemirror_mode": {
    "name": "ipython",
    "version": 3
   },
   "file_extension": ".py",
   "mimetype": "text/x-python",
   "name": "python",
   "nbconvert_exporter": "python",
   "pygments_lexer": "ipython3",
   "version": "3.12.6"
  }
 },
 "nbformat": 4,
 "nbformat_minor": 5
}
