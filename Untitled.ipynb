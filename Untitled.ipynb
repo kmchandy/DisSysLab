{
 "cells": [
  {
   "cell_type": "code",
   "execution_count": 14,
   "id": "6fa4caed-e549-4ea4-bcb8-465b6557ad59",
   "metadata": {},
   "outputs": [
    {
     "ename": "ImportError",
     "evalue": "cannot import name 'network' from 'dsl' (/Users/kmchandy/Documents/DisSysLab/dsl/__init__.py)",
     "output_type": "error",
     "traceback": [
      "\u001b[31m---------------------------------------------------------------------------\u001b[39m",
      "\u001b[31mImportError\u001b[39m                               Traceback (most recent call last)",
      "\u001b[36mCell\u001b[39m\u001b[36m \u001b[39m\u001b[32mIn[14]\u001b[39m\u001b[32m, line 3\u001b[39m\n\u001b[32m      1\u001b[39m \u001b[38;5;66;03m# dsl.examples.simple_pipeline\u001b[39;00m\n\u001b[32m----> \u001b[39m\u001b[32m3\u001b[39m \u001b[38;5;28;01mfrom\u001b[39;00m\u001b[38;5;250m \u001b[39m\u001b[34;01mdsl\u001b[39;00m\u001b[38;5;250m \u001b[39m\u001b[38;5;28;01mimport\u001b[39;00m network\n\u001b[32m      5\u001b[39m \u001b[38;5;66;03m# Define Python functions.\u001b[39;00m\n\u001b[32m      8\u001b[39m \u001b[38;5;28;01mdef\u001b[39;00m\u001b[38;5;250m \u001b[39m\u001b[34msrc\u001b[39m(items=[\u001b[33m\"\u001b[39m\u001b[33mhello\u001b[39m\u001b[33m\"\u001b[39m, \u001b[33m\"\u001b[39m\u001b[33mworld\u001b[39m\u001b[33m\"\u001b[39m]):\n",
      "\u001b[31mImportError\u001b[39m: cannot import name 'network' from 'dsl' (/Users/kmchandy/Documents/DisSysLab/dsl/__init__.py)"
     ]
    }
   ],
   "source": [
    "# dsl.examples.simple_pipeline\n",
    "\n",
    "from dsl import network\n",
    "\n",
    "# Define Python functions.\n",
    "\n",
    "\n",
    "def src(items=[\"hello\", \"world\"]):\n",
    "    for item in items:\n",
    "        yield item\n",
    "\n",
    "\n",
    "def t_0(v): return v.upper()\n",
    "def t_1(v): return v + \"!!\"\n",
    "\n",
    "\n",
    "results = []\n",
    "def snk(v): results.append(v)\n",
    "\n",
    "\n",
    "# Define and run the graph\n",
    "g = network([(src, t_0), (t_0, t_1), (t_1, snk)])\n"
   ]
  }
 ],
 "metadata": {
  "kernelspec": {
   "display_name": "Python 3 (ipykernel)",
   "language": "python",
   "name": "python3"
  },
  "language_info": {
   "codemirror_mode": {
    "name": "ipython",
    "version": 3
   },
   "file_extension": ".py",
   "mimetype": "text/x-python",
   "name": "python",
   "nbconvert_exporter": "python",
   "pygments_lexer": "ipython3",
   "version": "3.12.6"
  }
 },
 "nbformat": 4,
 "nbformat_minor": 5
}
