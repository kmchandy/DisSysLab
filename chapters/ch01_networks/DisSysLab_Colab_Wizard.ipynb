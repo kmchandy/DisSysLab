{
 "cells": [
  {
   "cell_type": "markdown",
   "id": "7b7ac685",
   "metadata": {
    "id": "title"
   },
   "source": [
    "# 🧙‍♂️ DisSysLab — Colab Wizard (Track A)\n",
    "\n",
    "Welcome! This notebook guides non-programmers to build their **first distributed app** with DisSysLab.\n",
    "\n",
    "**How it works:** We’ll take *small steps*. You’ll see a diagram of the distributed application network that you have created, the results of executing the application, and the generated Python code.\n",
    "\n",
    "> If you are a programmer, use Track C (lessons in README files) in the repo.\n"
   ]
  },
  {
   "cell_type": "markdown",
   "id": "7f2520fa",
   "metadata": {
    "id": "colab_tips"
   },
   "source": [
    "## ✅ Colab Tips\n",
    "- Run cells from top to bottom (Shift+Enter).\n",
    "- Fields marked with ▶️ **FORM** can be edited without touching code.\n",
    "- You can reset a choice at any time and re-run the **Build & Run** cell.\n"
   ]
  },
  {
   "cell_type": "markdown",
   "id": "a311b975",
   "metadata": {
    "id": "install_header"
   },
   "source": [
    "## 🛠 Install DisSysLab\n",
    "DisSysLab is currently **private**, so installation options:\n",
    "1. **Clone with a Personal Access Token (PAT)** *(recommended for maintainers)*, or\n",
    "2. **Upload a wheel/zip** to this Colab (drag into the left Files pane), then `pip install` it.\n",
    "\n",
    "When the repo is public, this cell will be a simple `pip install dissyslab[examples]`.\n"
   ]
  },
  {
   "cell_type": "code",
   "execution_count": null,
   "id": "d83c1162",
   "metadata": {
    "cellView": "form",
    "id": "install_code"
   },
   "outputs": [],
   "source": [
    "#@title (Maintainer) Install from GitHub using a token *(optional for now)*\n",
    "use_token = False #@param {type:\"boolean\"}\n",
    "github_user = \"kmchandy\" #@param {type:\"string\"}\n",
    "repo_name = \"DisSysLab\" #@param {type:\"string\"}\n",
    "branch = \"main\" #@param {type:\"string\"}\n",
    "token = \"\" #@param {type:\"string\"}\n",
    "\n",
    "if use_token and token:\n",
    "    print(\"Installing DisSysLab from private GitHub repo…\")\n",
    "    get_ipython().system('pip -q install git+https://{token}@github.com/{github_user}/{repo_name}.git@{branch}')\n",
    "else:\n",
    "    print(\"Skipping install for now (repo is private). We'll simulate the run.\")\n"
   ]
  },
  {
   "cell_type": "code",
   "execution_count": null,
   "id": "178b31aa",
   "metadata": {
    "cellView": "form",
    "id": "mount_drive"
   },
   "outputs": [],
   "source": [
    "#@title (Optional) Mount Google Drive to save apps and outputs\n",
    "mount_drive = False #@param {type:\"boolean\"}\n",
    "if mount_drive:\n",
    "    from google.colab import drive\n",
    "    drive.mount('/content/drive')\n",
    "    print(\"Drive mounted. We'll save files to /content/drive/MyDrive/DisSysLab/\")\n",
    "else:\n",
    "    print(\"Not mounting Drive. Files will stay in this Colab session.\")\n"
   ]
  },
  {
   "cell_type": "code",
   "execution_count": null,
   "id": "ff2744b5",
   "metadata": {
    "cellView": "form",
    "id": "scene_template"
   },
   "outputs": [],
   "source": [
    "#@title ▶️ Scene 1 — Choose a template\n",
    "template = \"Text analysis\" #@param [\"Text analysis\", \"Number crunching\", \"Custom\"]\n",
    "print(f\"Template selected: {template}\")\n"
   ]
  },
  {
   "cell_type": "code",
   "execution_count": null,
   "id": "3aa2a195",
   "metadata": {
    "cellView": "form",
    "id": "scene_source"
   },
   "outputs": [],
   "source": [
    "#@title ▶️ Scene 2 — Where is your data?\n",
    "source_kind = \"Type it in\" #@param [\"Type it in\", \"Upload a file\", \"URL or API\"]\n",
    "sample_text = \"\"\"I love sunny days\\nI hate traffic jams\\nThis pizza is amazing\"\"\" #@param {type:\"string\"}\n",
    "print(f\"Source: {source_kind}\")\n"
   ]
  },
  {
   "cell_type": "code",
   "execution_count": null,
   "id": "91e2d626",
   "metadata": {
    "cellView": "form",
    "id": "scene_processing"
   },
   "outputs": [],
   "source": [
    "#@title ▶️ Scene 3 — What should we do with the data?\n",
    "if template == \"Text analysis\":\n",
    "    processing = \"Sentiment analysis\" #@param [\"Sentiment analysis\", \"Summarize\", \"Extract entities\", \"Custom prompt\"]\n",
    "else:\n",
    "    processing = \"Scale numbers\" #@param [\"Scale numbers\", \"Average\", \"Apply formula\", \"Custom function\"]\n",
    "print(f\"Processing: {processing}\")\n"
   ]
  },
  {
   "cell_type": "code",
   "execution_count": null,
   "id": "c168ff5f",
   "metadata": {
    "cellView": "form",
    "id": "scene_outputs"
   },
   "outputs": [],
   "source": [
    "#@title ▶️ Scene 4 — Where should results go?\n",
    "show_on_screen = True #@param {type:\"boolean\"}\n",
    "save_to_file = False #@param {type:\"boolean\"}\n",
    "print(f\"Show on screen: {show_on_screen}, Save to file: {save_to_file}\")\n"
   ]
  },
  {
   "cell_type": "markdown",
   "id": "a7632e53",
   "metadata": {
    "id": "scene_review"
   },
   "source": [
    "## 🔍 Review\n",
    "We are about to build this network:\n",
    "\n",
    "```\n",
    "[ Generator ] → [ Transformer ] → [ Recorder ]\n",
    "```\n",
    "\n",
    "If \"Upload a file\" was selected, you'll be prompted in the next cell.\n"
   ]
  },
  {
   "cell_type": "code",
   "execution_count": null,
   "id": "828d261f",
   "metadata": {
    "id": "build_run"
   },
   "outputs": [],
   "source": [
    "import json, os\n",
    "print(\"⚡ Building your app…\")\n",
    "\n",
    "texts = []\n",
    "if source_kind == \"Type it in\":\n",
    "    texts = [t.strip() for t in sample_text.splitlines() if t.strip()]\n",
    "elif source_kind == \"Upload a file\":\n",
    "    print(\"Please upload a text file in the left Files pane, then set its path below and re-run.\")\n",
    "    upload_path = \"/content/input.txt\"  # change if needed\n",
    "    if os.path.exists(upload_path):\n",
    "        with open(upload_path, 'r') as f:\n",
    "            texts = [t.strip() for t in f if t.strip()]\n",
    "    else:\n",
    "        print(\"Oops — couldn't find /content/input.txt. Using sample text.\")\n",
    "        texts = [t.strip() for t in sample_text.splitlines() if t.strip()]\n",
    "else:\n",
    "    print(\"URL/API mode not implemented in this skeleton. Using sample text.\")\n",
    "    texts = [t.strip() for t in sample_text.splitlines() if t.strip()]\n",
    "\n",
    "print(f\"Loaded {len(texts)} lines.\")\n",
    "\n",
    "try:\n",
    "    from dsl.core import Network\n",
    "    from dsl.block_lib.stream_generators import generate\n",
    "    from dsl.block_lib.stream_transformers import SentimentClassifierWithGPT\n",
    "    from dsl.block_lib.stream_recorders import RecordToList\n",
    "    HAVE_DSL = True\n",
    "except Exception:\n",
    "    HAVE_DSL = False\n",
    "    print(\"Note: DisSysLab not installed — simulating the pipeline.\")\n",
    "\n",
    "results = []\n",
    "\n",
    "if HAVE_DSL and template == \"Text analysis\" and processing == \"Sentiment analysis\":\n",
    "    net = Network(\n",
    "        blocks={\n",
    "            \"gen\": generate(texts, key=\"text\"),\n",
    "            \"sentiment\": SentimentClassifierWithGPT(input_key=\"text\", output_key=\"sentiment\"),\n",
    "            \"rec\": RecordToList(results),\n",
    "        },\n",
    "        connections=[\n",
    "            (\"gen\", \"out\", \"sentiment\", \"in\"),\n",
    "            (\"sentiment\", \"out\", \"rec\", \"in\"),\n",
    "        ],\n",
    "    )\n",
    "    net.compile_and_run()\n",
    "else:\n",
    "    def fake_sentiment(s):\n",
    "        s_low = s.lower()\n",
    "        if any(k in s_low for k in [\"love\", \"amazing\", \"great\", \"good\", \"happy\"]):\n",
    "            return \"positive\"\n",
    "        if any(k in s_low for k in [\"hate\", \"bad\", \"angry\", \"terrible\"]):\n",
    "            return \"negative\"\n",
    "        return \"neutral\"\n",
    "    for t in texts:\n",
    "        results.append({\"text\": t, \"sentiment\": fake_sentiment(t)})\n",
    "\n",
    "print(\"\\n✅ Results:\")\n",
    "for r in results:\n",
    "    print(r)\n",
    "\n",
    "if save_to_file:\n",
    "    out_path = \"/content/results.json\"\n",
    "    with open(out_path, 'w') as f:\n",
    "        json.dump(results, f, indent=2)\n",
    "    print(f\"\\nSaved to {out_path}\")\n"
   ]
  },
  {
   "cell_type": "markdown",
   "id": "8360dcad",
   "metadata": {
    "id": "diagram_md"
   },
   "source": [
    "## 🖼 Network Diagram\n",
    "```\n",
    "[ Generator ] → [ Transformer ] → [ Recorder ]\n",
    "```\n",
    "![Pipeline](/docs/images/simple_network.svg)\n"
   ]
  },
  {
   "cell_type": "markdown",
   "id": "08a8d38c",
   "metadata": {
    "id": "teaching_end"
   },
   "source": [
    "## 🎓 What you just did\n",
    "1. **Created blocks** — chose type, gave a name, specified what it does.\n",
    "2. **Connected blocks** — output from one flows to the next.\n",
    "\n",
    "This is the foundation. You can now add more steps or switch data sources.\n"
   ]
  }
 ],
 "metadata": {
  "colab": {
   "collapsed_sections": [],
   "name": "DisSysLab_Colab_Wizard.ipynb",
   "provenance": []
  },
  "kernelspec": {
   "display_name": "Python 3",
   "name": "python3"
  }
 },
 "nbformat": 4,
 "nbformat_minor": 5
}
