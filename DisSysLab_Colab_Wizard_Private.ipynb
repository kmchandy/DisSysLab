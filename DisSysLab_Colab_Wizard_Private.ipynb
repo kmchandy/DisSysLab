{
 "cells": [
  {
   "cell_type": "markdown",
   "id": "25708d98",
   "metadata": {},
   "source": [
    "# DisSysLab — Private Colab Wizard (Wheel Upload)\n",
    "\n",
    "This notebook is for **private testing** of DisSysLab via a **wheel (.whl) upload**.\n",
    "\n",
    "**Quick steps**\n",
    "1. ▶ Run **0) Preflight** (fixes a common Colab warning).\n",
    "2. ▶ Run **1A) Install DisSysLab from an uploaded wheel** and pick your `dist/dsl-<version>-py3-none-any.whl`.\n",
    "   - Or use **1B) Alternate: Drag-and-drop then pip install** if you prefer the Files pane.\n",
    "3. ▶ Run **2) Import sanity check**.\n",
    "4. ▶ Try the **token-free demos** and the **quick-start pipeline**.\n",
    "5. (Optional) Enable GPT features if you want to test models.\n"
   ]
  },
  {
   "cell_type": "markdown",
   "id": "6ec1a7b3",
   "metadata": {},
   "source": [
    "## 0) Preflight (one-time per session)"
   ]
  },
  {
   "cell_type": "code",
   "execution_count": null,
   "id": "d66c3569",
   "metadata": {
    "trusted": true
   },
   "outputs": [],
   "source": [
    "from pathlib import Path\n",
    "import os\n",
    "\n",
    "p = Path.cwd()\n",
    "while not (p / \"pyproject.toml\").exists():\n",
    "    if p.parent == p:\n",
    "        raise FileNotFoundError(\"pyproject.toml not found above this notebook\")\n",
    "    p = p.parent\n",
    "\n",
    "os.chdir(p)\n",
    "print(\"CWD ->\", os.getcwd())  # should print .../DisSysLab\n"
   ]
  },
  {
   "cell_type": "markdown",
   "id": "1aa36f4b",
   "metadata": {},
   "source": [
    "## 1A) Install DisSysLab from an **uploaded wheel**"
   ]
  },
  {
   "cell_type": "code",
   "execution_count": null,
   "id": "b5f424bd",
   "metadata": {
    "trusted": true
   },
   "outputs": [],
   "source": [
    "from google.colab import files\n",
    "import glob, os, sys\n",
    "\n",
    "print(\"Please upload your DisSysLab wheel (.whl) from your local 'dist/' folder…\")\n",
    "uploads = files.upload()  # opens picker\n",
    "wheel_paths = [p for p in uploads.keys() if p.endswith('.whl')]\n",
    "if not wheel_paths:\n",
    "    raise RuntimeError(\"No .whl file uploaded. Re-run and choose a file like 'dsl-0.1.0-py3-none-any.whl'.\")\n",
    "\n",
    "wheel = wheel_paths[0]\n",
    "print(\"Installing:\", wheel)\n",
    "!pip install -q --upgrade pip\n",
    "!pip install -q --no-cache-dir \"{wheel}\"\n",
    "\n",
    "print(\"\\nInstalled wheels in this directory:\")\n",
    "print(\"\\n\".join(glob.glob(\"*.whl\")))\n",
    "print(\"\\nIf you rebuild locally later, upload the new wheel and run this cell again (use --force-reinstall if needed).\")"
   ]
  },
  {
   "cell_type": "markdown",
   "id": "4170213f",
   "metadata": {},
   "source": [
    "## 1B) Alternate: Drag-and-drop then pip install"
   ]
  },
  {
   "cell_type": "markdown",
   "id": "fb964a28",
   "metadata": {},
   "source": [
    "Drag your `.whl` into the **Files** pane (left sidebar). It will land under `/content`. Then run:"
   ]
  },
  {
   "cell_type": "code",
   "execution_count": null,
   "id": "debc104b",
   "metadata": {
    "trusted": true
   },
   "outputs": [],
   "source": [
    "# Example (edit the filename to match yours):\n",
    "# !pip install -q --upgrade pip\n",
    "# !pip install -q --no-cache-dir /content/dsl-0.1.0-py3-none-any.whl\n",
    "print(\"Edit the cell with your actual wheel filename if you use drag-and-drop.\")"
   ]
  },
  {
   "cell_type": "markdown",
   "id": "19505b59",
   "metadata": {},
   "source": [
    "## 1C) Verify installed package version (optional)"
   ]
  },
  {
   "cell_type": "code",
   "execution_count": null,
   "id": "6b904ae6",
   "metadata": {
    "trusted": true
   },
   "outputs": [],
   "source": [
    "import importlib.metadata as m\n",
    "try:\n",
    "    print(\"Installed 'dsl' distribution version:\", m.version(\"dsl\"))\n",
    "except m.PackageNotFoundError:\n",
    "    print(\"Could not find installed 'dsl' distribution. Did the pip install succeed?\")"
   ]
  },
  {
   "cell_type": "markdown",
   "id": "8f9916cf",
   "metadata": {},
   "source": [
    "## 2) Import sanity check"
   ]
  },
  {
   "cell_type": "code",
   "execution_count": null,
   "id": "992430d4",
   "metadata": {
    "trusted": true
   },
   "outputs": [],
   "source": [
    "try:\n",
    "    from dsl.core import Network\n",
    "    from dsl.block_lib.stream_generators import generate\n",
    "    from dsl.block_lib.stream_transformers import WrapFunction\n",
    "    from dsl.block_lib.stream_recorders import RecordToList\n",
    "    print(\"✅ DisSysLab imports succeeded.\")\n",
    "except Exception as e:\n",
    "    print(\"❌ Import failed. Check your wheel build and package layout.\")\n",
    "    raise"
   ]
  },
  {
   "cell_type": "markdown",
   "id": "93fbc411",
   "metadata": {},
   "source": [
    "## 3) Token-free demos (no API key)"
   ]
  },
  {
   "cell_type": "markdown",
   "id": "8e4103aa",
   "metadata": {},
   "source": [
    "### 3a) String transforms"
   ]
  },
  {
   "cell_type": "code",
   "execution_count": null,
   "id": "d33377cf",
   "metadata": {
    "trusted": true
   },
   "outputs": [],
   "source": [
    "def to_uppercase(s: str) -> str:\n",
    "    return s.upper()\n",
    "\n",
    "def reverse_text(s: str) -> str:\n",
    "    return s[::-1]\n",
    "\n",
    "def word_count(s: str) -> int:\n",
    "    return len([w for w in s.split() if w.strip()])\n",
    "\n",
    "samples = [\n",
    "    \"Hello DisSysLab\",\n",
    "    \"Agents collaborate by exchanging messages\",\n",
    "    \"This runs without any API key\"\n",
    "]\n",
    "\n",
    "print(\"Uppercase:\", [to_uppercase(x) for x in samples])\n",
    "print(\"Reversed:\", [reverse_text(x) for x in samples])\n",
    "print(\"Word counts:\", [word_count(x) for x in samples])"
   ]
  },
  {
   "cell_type": "markdown",
   "id": "75612883",
   "metadata": {},
   "source": [
    "### 3b) Simple numeric scaling"
   ]
  },
  {
   "cell_type": "code",
   "execution_count": null,
   "id": "5d484d23",
   "metadata": {
    "trusted": true
   },
   "outputs": [],
   "source": [
    "def zscore(xs):\n",
    "    if not xs:\n",
    "        return []\n",
    "    n = len(xs)\n",
    "    mean = sum(xs)/n\n",
    "    var = sum((x-mean)**2 for x in xs)/n\n",
    "    std = var**0.5 if var>0 else 1.0\n",
    "    return [(x-mean)/std for x in xs]\n",
    "\n",
    "xs = [1, 2, 3, 4, 5]\n",
    "print(\"Input:\", xs)\n",
    "print(\"Z-scored:\", zscore(xs))"
   ]
  },
  {
   "cell_type": "markdown",
   "id": "e58c1a32",
   "metadata": {},
   "source": [
    "## 4) DisSysLab quick-start (token-free)"
   ]
  },
  {
   "cell_type": "code",
   "execution_count": null,
   "id": "9a5ca283",
   "metadata": {
    "trusted": true
   },
   "outputs": [],
   "source": [
    "results = []\n",
    "\n",
    "from dsl.core import Network\n",
    "from dsl.block_lib.stream_generators import generate\n",
    "from dsl.block_lib.stream_transformers import WrapFunction\n",
    "from dsl.block_lib.stream_recorders import RecordToList\n",
    "\n",
    "def to_upper(s: str) -> str:\n",
    "    return s.upper()\n",
    "\n",
    "net = Network(\n",
    "    blocks={\n",
    "        \"gen\": generate([\"hello\", \"distributed\", \"systems\"], key=None),\n",
    "        \"xf\": WrapFunction(transform_fn=to_upper),\n",
    "        \"rec\": RecordToList(results),\n",
    "    },\n",
    "    connections=[(\"gen\", \"out\", \"xf\", \"in\"), (\"xf\", \"out\", \"rec\", \"in\")],\n",
    ")\n",
    "\n",
    "net.compile_and_run()\n",
    "print(\"Results:\", results)"
   ]
  },
  {
   "cell_type": "markdown",
   "id": "26ad2063",
   "metadata": {},
   "source": [
    "## 5) (Optional) Enable GPT features"
   ]
  },
  {
   "cell_type": "code",
   "execution_count": null,
   "id": "a5836aa7",
   "metadata": {
    "trusted": true
   },
   "outputs": [],
   "source": [
    "# Only run if you want to test GPT-powered blocks today.\n",
    "!pip install -q --upgrade openai\n",
    "\n",
    "import os\n",
    "from getpass import getpass\n",
    "\n",
    "if not os.environ.get(\"OPENAI_API_KEY\"):\n",
    "    key = getpass(\"Enter your OpenAI API key (input hidden): \").strip()\n",
    "    if key:\n",
    "        os.environ[\"OPENAI_API_KEY\"] = key\n",
    "        print(\"✅ OPENAI_API_KEY set for this session.\")\n",
    "    else:\n",
    "        print(\"No key provided. You can re-run this cell later.\")"
   ]
  },
  {
   "cell_type": "code",
   "execution_count": null,
   "id": "f214b7b3",
   "metadata": {
    "trusted": true
   },
   "outputs": [],
   "source": [
    "# Minimal GPT smoke test (optional)\n",
    "try:\n",
    "    from openai import OpenAI\n",
    "    client = OpenAI()\n",
    "    model = input(\"Enter a chat model you have access to (e.g., 'gpt-4o-mini'): \").strip()\n",
    "    if model:\n",
    "        resp = client.chat.completions.create(\n",
    "            model=model,\n",
    "            messages=[\n",
    "                {\"role\":\"system\",\"content\":\"You are a concise assistant.\"},\n",
    "                {\"role\":\"user\",\"content\":\"Reply with 'ready' only.\"}\n",
    "            ],\n",
    "            max_tokens=5,\n",
    "            temperature=0\n",
    "        )\n",
    "        print(\"Model responded:\", resp.choices[0].message.content)\n",
    "    else:\n",
    "        print(\"Skipping GPT test — no model provided.\")\n",
    "except Exception as e:\n",
    "    print(\"GPT test failed:\", repr(e))\n",
    "    print(\"Tips: check your model name & access; ensure OPENAI_API_KEY is set.\")"
   ]
  },
  {
   "cell_type": "markdown",
   "id": "50c67351",
   "metadata": {},
   "source": [
    "## 6) Troubleshooting\n",
    "\n",
    "- **Import failed**: Rebuild the wheel and confirm `packages.find` includes `dsl*`. Verify your wheel file name and that `pip install` succeeded.\n",
    "- **Model not found**: Use a model your account has access to. Set `OPENAI_API_KEY` in the prior cell.\n",
    "- **Colab reset**: If the notebook idles, re-run from the top and re-upload the wheel.\n",
    "- **Force reinstall** after uploading a new wheel:\n",
    "  ```python\n",
    "  !pip install -q --no-cache-dir --force-reinstall /content/dsl-<ver>-py3-none-any.whl\n",
    "  ```\n"
   ]
  }
 ],
 "metadata": {
  "colab": {
   "name": "DisSysLab_Colab_Wizard_Private.ipynb",
   "provenance": []
  },
  "kernelspec": {
   "display_name": "Python 3",
   "name": "python3"
  },
  "language_info": {
   "name": "python",
   "version": "3.11.8"
  }
 },
 "nbformat": 4,
 "nbformat_minor": 5
}
