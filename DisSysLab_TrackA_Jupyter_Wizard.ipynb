{
 "cells": [
  {
   "cell_type": "markdown",
   "id": "6df58397",
   "metadata": {},
   "source": [
    "# DisSysLab — Track A Jupyter Wizard (Local)\n",
    "\n",
    "This notebook is for **local Jupyter** development (not Colab). Put this file in the **root of your `DisSysLab/` repo**.\n",
    "\n",
    "It will:\n",
    "- Install DisSysLab from a **wheel in `dist/`** if present, otherwise do **`pip install -e .`** from the repo root.\n",
    "- Run **token-free demos** (uppercase, reverse, word count, number scaling).\n",
    "- Optionally run a **GPT demo** if `OPENAI_API_KEY` is set, or if `get_credentials.py` provides it.\n",
    "- Show a **minimal DisSysLab quick-start pipeline** for new users.\n",
    "\n",
    "If anything fails, the notebook prints actionable hints instead of crashing."
   ]
  },
  {
   "cell_type": "code",
   "execution_count": 64,
   "id": "926d4f42",
   "metadata": {},
   "outputs": [
    {
     "name": "stdout",
     "output_type": "stream",
     "text": [
      "[Setup] Installing from wheel: dist/dsl-0.1.0-py3-none-any.whl\n"
     ]
    }
   ],
   "source": [
    "# --- 0) Install DisSysLab (wheel preferred, else editable) ---\n",
    "import os, glob, sys\n",
    "from pathlib import Path\n",
    "\n",
    "repo_root = Path('.').resolve()\n",
    "if not (repo_root / 'pyproject.toml').exists():\n",
    "    print('[Setup] ERROR: Please run this notebook from the root of your DisSysLab repository (pyproject.toml not found).')\n",
    "else:\n",
    "    wheel_candidates = sorted(glob.glob('dist/*.whl'))\n",
    "    if wheel_candidates:\n",
    "        wheel = wheel_candidates[0]\n",
    "        print(f'[Setup] Installing from wheel: {wheel}')\n",
    "        !python3 -m pip install -q --upgrade pip\n",
    "        !python3 -m pip install -q --no-cache-dir \"{wheel}\"\n",
    "    else:\n",
    "        print('[Setup] No wheel found in dist/. Falling back to editable install (pip install -e .).')\n",
    "        !python3 -m pip install -q --upgrade pip\n",
    "        !python3 -m pip install -e ."
   ]
  },
  {
   "cell_type": "code",
   "execution_count": 65,
   "id": "7e0d66e0",
   "metadata": {},
   "outputs": [
    {
     "name": "stdout",
     "output_type": "stream",
     "text": [
      "[Imports] OK: generate, WrapFunction/StreamTransformer, PromptToBlock (optional), RecordToList\n"
     ]
    }
   ],
   "source": [
    "# --- 1) Compatibility imports (handles current and in-flight refactors) ---\n",
    "import importlib, inspect\n",
    "\n",
    "def _try_import(path):\n",
    "    try:\n",
    "        return importlib.import_module(path)\n",
    "    except Exception as e:\n",
    "        return None\n",
    "\n",
    "# Try new-style paths first, then older paths as fallbacks\n",
    "mod_gen = _try_import('dsl.block_lib.generators.stream_generators') or _try_import('dsl.block_lib.stream_generators')\n",
    "mod_xf  = _try_import('dsl.block_lib.transformers.stream_transformers') or _try_import('dsl.block_lib.stream_transformers')\n",
    "mod_rec = _try_import('dsl.block_lib.recorders.stream_recorders') or _try_import('dsl.block_lib.stream_recorders')\n",
    "core    = _try_import('dsl.core')\n",
    "\n",
    "if not core:\n",
    "    raise ImportError('[Imports] Could not import dsl.core. Make sure installation succeeded.')\n",
    "\n",
    "from dsl.core import Network\n",
    "\n",
    "if not (mod_gen and mod_xf and mod_rec):\n",
    "    raise ImportError('[Imports] Could not import one or more block libraries. Check your package version.')\n",
    "\n",
    "# Export canonical names\n",
    "generate = getattr(mod_gen, 'generate')\n",
    "WrapFunction = getattr(mod_xf, 'WrapFunction', None) or getattr(mod_xf, 'StreamTransformer', None)\n",
    "PromptToBlock = getattr(mod_xf, 'PromptToBlock', None)\n",
    "\n",
    "# Recorder\n",
    "RecordToList = getattr(mod_rec, 'RecordToList', None)\n",
    "if RecordToList is None:\n",
    "    # Newer generic record wrapper? Try a graceful fallback adapter\n",
    "    Record = getattr(mod_rec, 'RecordToList', None) or getattr(mod_rec, 'Record', None)\n",
    "    if Record is None:\n",
    "        raise ImportError('[Imports] Neither RecordToList nor Record found in recorders module.')\n",
    "    else:\n",
    "        RecordToList = Record  # assume same signature\n",
    "\n",
    "print('[Imports] OK: generate, WrapFunction/StreamTransformer, PromptToBlock (optional), RecordToList')"
   ]
  },
  {
   "cell_type": "code",
   "execution_count": 66,
   "id": "1a7fdd8d",
   "metadata": {},
   "outputs": [],
   "source": [
    "# --- 2) Tiny helpers for compatibility with input_key/output_key kwargs ---\n",
    "import functools\n",
    "\n",
    "def make_transform(fn, input_key=None, output_key=None):\n",
    "    \"\"\"Create a transformer block with best-effort support for input/output keys.\n",
    "    Falls back gracefully if the underlying class does not accept those kwargs.\n",
    "    \"\"\"\n",
    "    if WrapFunction is None:\n",
    "        raise RuntimeError('WrapFunction/StreamTransformer not found.')\n",
    "    try:\n",
    "        # Try the modern signature\n",
    "        return WrapFunction(fn, input_key=input_key, output_key=output_key)\n",
    "    except TypeError:\n",
    "        # Fallback to simple call\n",
    "        return WrapFunction(fn)\n",
    "\n",
    "def print_if_available(net):\n",
    "    for name in (\n",
    "        'print_connections_only',\n",
    "        'print_parameter_mappings_only',\n",
    "        'draw',\n",
    "    ):\n",
    "        if hasattr(net, name):\n",
    "            try:\n",
    "                print(f'[Viz] Calling net.{name}()')\n",
    "                getattr(net, name)()\n",
    "            except Exception as e:\n",
    "                print(f'[Viz] {name} failed: {e}')"
   ]
  },
  {
   "cell_type": "markdown",
   "id": "efdf1ee2",
   "metadata": {},
   "source": [
    "## Token‑free Demos\n",
    "These demos run without any API keys."
   ]
  },
  {
   "cell_type": "code",
   "execution_count": 67,
   "id": "9c6b1dbb",
   "metadata": {},
   "outputs": [
    {
     "name": "stdout",
     "output_type": "stream",
     "text": [
      "[StreamTransformer.handle_msg] Received: hello\n",
      "[StreamTransformer.handle_msg] Received: distributed\n",
      "[StreamTransformer.handle_msg] Received: systems\n",
      "Uppercase results: ['HELLO', 'DISTRIBUTED', 'SYSTEMS']\n"
     ]
    }
   ],
   "source": [
    "# --- 3) Demo A: Uppercase ---\n",
    "results = []\n",
    "net = Network(\n",
    "    blocks={\n",
    "        'gen': generate(['hello', 'distributed', 'systems']),\n",
    "        'xf': make_transform(lambda s: s.upper()),\n",
    "        'rec': RecordToList(results),\n",
    "    },\n",
    "    connections=[('gen','out','xf','in'),('xf','out','rec','in')]\n",
    ")\n",
    "net.compile_and_run()\n",
    "print('Uppercase results:', results)\n",
    "print_if_available(net)"
   ]
  },
  {
   "cell_type": "code",
   "execution_count": 68,
   "id": "d044efb7",
   "metadata": {},
   "outputs": [
    {
     "name": "stdout",
     "output_type": "stream",
     "text": [
      "[StreamTransformer.handle_msg] Received: alpha\n",
      "[StreamTransformer.handle_msg] Received: beta\n",
      "[StreamTransformer.handle_msg] Received: gamma\n",
      "Reverse results: ['ahpla', 'ateb', 'ammag']\n"
     ]
    }
   ],
   "source": [
    "# --- 4) Demo B: Reverse strings ---\n",
    "results = []\n",
    "net = Network(\n",
    "    blocks={\n",
    "        'gen': generate(['alpha', 'beta', 'gamma']),\n",
    "        'xf': make_transform(lambda s: s[::-1]),\n",
    "        'rec': RecordToList(results),\n",
    "    },\n",
    "    connections=[('gen','out','xf','in'),('xf','out','rec','in')]\n",
    ")\n",
    "net.compile_and_run()\n",
    "print('Reverse results:', results)"
   ]
  },
  {
   "cell_type": "code",
   "execution_count": 69,
   "id": "6c5904b2",
   "metadata": {},
   "outputs": [
    {
     "name": "stdout",
     "output_type": "stream",
     "text": [
      "[StreamTransformer.handle_msg] Received: one two\n",
      "[StreamTransformer.handle_msg] Received: three four five\n",
      "[StreamTransformer.handle_msg] Received: six\n",
      "Word-count results: [2, 3, 1]\n"
     ]
    }
   ],
   "source": [
    "# --- 5) Demo C: Word count ---\n",
    "def word_count(s: str) -> int:\n",
    "    return len(s.split())\n",
    "\n",
    "results = []\n",
    "net = Network(\n",
    "    blocks={\n",
    "        'gen': generate(['one two', 'three four five', 'six']),\n",
    "        'xf': make_transform(word_count),\n",
    "        'rec': RecordToList(results),\n",
    "    },\n",
    "    connections=[('gen','out','xf','in'),('xf','out','rec','in')]\n",
    ")\n",
    "net.compile_and_run()\n",
    "print('Word-count results:', results)"
   ]
  },
  {
   "cell_type": "code",
   "execution_count": 70,
   "id": "b9316503",
   "metadata": {},
   "outputs": [
    {
     "name": "stdout",
     "output_type": "stream",
     "text": [
      "[StreamTransformer.handle_msg] Received: [1, 2, 3]\n",
      "[StreamTransformer.handle_msg] Received: [4, 5]\n",
      "[StreamTransformer.handle_msg] Received: [6]\n",
      "Scaled-number results: [[3, 6, 9], [12, 15], [18]]\n"
     ]
    }
   ],
   "source": [
    "# --- 6) Demo D: Number scaling ---\n",
    "def scale(nums, factor=10):\n",
    "    return [x * factor for x in nums]\n",
    "\n",
    "results = []\n",
    "net = Network(\n",
    "    blocks={\n",
    "        'gen': generate([[1,2,3],[4,5],[6]]),\n",
    "        'xf': make_transform(lambda arr: scale(arr, factor=3)),\n",
    "        'rec': RecordToList(results),\n",
    "    },\n",
    "    connections=[('gen','out','xf','in'),('xf','out','rec','in')]\n",
    ")\n",
    "net.compile_and_run()\n",
    "print('Scaled-number results:', results)"
   ]
  },
  {
   "cell_type": "markdown",
   "id": "0f840e03",
   "metadata": {},
   "source": [
    "## Optional: GPT Demo\n",
    "This cell tries to read `OPENAI_API_KEY` from your environment. If not set, it will try to import `get_credentials.py` from the repo root and read `OPENAI_API_KEY` from there. If no key is found, the cell will skip the GPT example."
   ]
  },
  {
   "cell_type": "code",
   "execution_count": 10,
   "id": "dfcfa14c",
   "metadata": {},
   "outputs": [
    {
     "name": "stdout",
     "output_type": "stream",
     "text": [
      "[Debug] PromptToBlock signature: (prompt: str, model: str = 'gpt-3.5-turbo', temperature: float = 0.7, name: Optional[str] = None)\n"
     ]
    }
   ],
   "source": [
    "import inspect\n",
    "\n",
    "def make_prompt_block(PromptToBlock, messages):\n",
    "    \"\"\"\n",
    "    Create a PromptToBlock regardless of which kw name your version expects.\n",
    "    Tries: messages, prompt, template, system_prompt/user_template pairs.\n",
    "    \"\"\"\n",
    "    sig = inspect.signature(PromptToBlock)\n",
    "    params = set(sig.parameters.keys())\n",
    "\n",
    "    # Common single-arg names\n",
    "    for kw in (\"messages\", \"prompt\", \"template\", \"prompt_messages\"):\n",
    "        if kw in params:\n",
    "            return PromptToBlock(**{kw: messages})\n",
    "\n",
    "    # Pair-style constructors (system/user)\n",
    "    if {\"system_prompt\", \"user_template\"} <= params:\n",
    "        # Split messages into system + user if possible; else make a simple pair\n",
    "        system = \"You are a helpful assistant.\"\n",
    "        user = \"{text}\"\n",
    "        for m in messages:\n",
    "            if m.get(\"role\") == \"system\":\n",
    "                system = m.get(\"content\", system)\n",
    "            if m.get(\"role\") == \"user\":\n",
    "                user = m.get(\"content\", user)\n",
    "        return PromptToBlock(system_prompt=system, user_template=user)\n",
    "\n",
    "    # Fallback: raise with helpful info\n",
    "    raise TypeError(\n",
    "        f\"Don't know how to init PromptToBlock with params {sorted(params)}. \"\n",
    "        \"Try renaming 'messages' to whatever your class expects.\"\n",
    "    )\n",
    "\n",
    "# Show the constructor so we can see what it wants\n",
    "from dsl.block_lib.stream_transformers import PromptToBlock\n",
    "print(\"[Debug] PromptToBlock signature:\", inspect.signature(PromptToBlock))"
   ]
  },
  {
   "cell_type": "code",
   "execution_count": null,
   "id": "c0e525c7",
   "metadata": {},
   "outputs": [
    {
     "name": "stdout",
     "output_type": "stream",
     "text": [
      "[GPT] OPENAI_API_KEY loaded from dsl/utils/get_credentials.py\n"
     ]
    },
    {
     "data": {
      "text/html": [
       "<pre style=\"white-space:pre;overflow-x:auto;line-height:normal;font-family:Menlo,'DejaVu Sans Mono',consolas,'Courier New',monospace\"><span style=\"color: #800000; text-decoration-color: #800000; font-weight: bold\">❌ PromptToBlock error:</span> <span style=\"color: #008000; text-decoration-color: #008000\">'function'</span> object has no attribute <span style=\"color: #008000; text-decoration-color: #008000\">'replace'</span>\n",
       "</pre>\n"
      ],
      "text/plain": [
       "\u001b[1;31m❌ PromptToBlock error:\u001b[0m \u001b[32m'function'\u001b[0m object has no attribute \u001b[32m'replace'\u001b[0m\n"
      ]
     },
     "metadata": {},
     "output_type": "display_data"
    },
    {
     "data": {
      "text/html": [
       "<pre style=\"white-space:pre;overflow-x:auto;line-height:normal;font-family:Menlo,'DejaVu Sans Mono',consolas,'Courier New',monospace\"><span style=\"color: #800000; text-decoration-color: #800000; font-weight: bold\">❌ PromptToBlock error:</span> <span style=\"color: #008000; text-decoration-color: #008000\">'function'</span> object has no attribute <span style=\"color: #008000; text-decoration-color: #008000\">'replace'</span>\n",
       "</pre>\n"
      ],
      "text/plain": [
       "\u001b[1;31m❌ PromptToBlock error:\u001b[0m \u001b[32m'function'\u001b[0m object has no attribute \u001b[32m'replace'\u001b[0m\n"
      ]
     },
     "metadata": {},
     "output_type": "display_data"
    },
    {
     "name": "stdout",
     "output_type": "stream",
     "text": [
      "[GPT] Results: []\n"
     ]
    }
   ],
   "source": [
    "import os, sys\n",
    "sys.path.append(os.getcwd())  # ensure repo root is on sys.path\n",
    "\n",
    "from dsl.utils import get_credentials\n",
    "\n",
    "key = \"\"\n",
    "# Prefer a direct key if the module exposes one (future-proof), else use the helper\n",
    "if hasattr(get_credentials, \"OPENAI_API_KEY\"):\n",
    "    key = get_credentials.OPENAI_API_KEY\n",
    "elif hasattr(get_credentials, \"get_openai_key\"):\n",
    "    key = get_credentials.get_openai_key()\n",
    "\n",
    "if key:\n",
    "    os.environ[\"OPENAI_API_KEY\"] = key\n",
    "    print(\"[GPT] OPENAI_API_KEY loaded from dsl/utils/get_credentials.py\")\n",
    "else:\n",
    "    print(\"[GPT] No key found in get_credentials. Skipping GPT demo.\")\n",
    "\n",
    "\n",
    "if not PromptToBlock:\n",
    "    print('[GPT] PromptToBlock not available in your current version. Skipping GPT demo.')\n",
    "elif not key:\n",
    "    print('[GPT] No OPENAI_API_KEY found. Skipping GPT demo.')\n",
    "else:\n",
    "    try:\n",
    "        from dsl.block_lib.prompt_templates import sentiment_prompt\n",
    "\n",
    "        results = []\n",
    "        net = Network(\n",
    "            blocks={\n",
    "                'gen': generate(['I love distributed systems!', 'I hate bugs.']),\n",
    "                'gpt': PromptToBlock(sentiment_prompt()),\n",
    "                'rec': RecordToList(results),\n",
    "            },\n",
    "            connections=[('gen','out','gpt','in'),('gpt','out','rec','in')]\n",
    "        )\n",
    "        net.compile_and_run()\n",
    "        print('[GPT] Results:', results)\n",
    "    except Exception as e:\n",
    "        print('[GPT] Demo failed:', e)"
   ]
  },
  {
   "cell_type": "markdown",
   "id": "d9c8593d",
   "metadata": {},
   "source": [
    "## Minimal Quick‑Start Pipeline\n",
    "A small, readable example you can show to first‑timers. If your framework supports dict messages with a `data` key, we try to use it; otherwise we fall back to plain strings."
   ]
  },
  {
   "cell_type": "code",
   "execution_count": null,
   "id": "c9ec38ba",
   "metadata": {},
   "outputs": [],
   "source": [
    "# --- 8) Quick‑Start: Dict messages if supported ---\n",
    "results = []\n",
    "\n",
    "def to_upper_data(msg):\n",
    "    # If dict-based messages are used, expect msg['data']; else treat msg as a string\n",
    "    if isinstance(msg, dict) and 'data' in msg:\n",
    "        return {**msg, 'data': str(msg['data']).upper()}\n",
    "    return str(msg).upper()\n",
    "\n",
    "try:\n",
    "    # Prefer explicit keys when the transformer supports input_key/output_key\n",
    "    xf = make_transform(to_upper_data, input_key='data', output_key='data')\n",
    "except Exception:\n",
    "    # Fallback: no key routing\n",
    "    xf = make_transform(to_upper_data)\n",
    "\n",
    "net = Network(\n",
    "    blocks={\n",
    "        'gen': generate([{'data': 'hello'}, {'data': 'world'}]),\n",
    "        'xf': xf,\n",
    "        'rec': RecordToList(results),\n",
    "    },\n",
    "    connections=[('gen','out','xf','in'),('xf','out','rec','in')]\n",
    ")\n",
    "net.compile_and_run()\n",
    "print('Quick‑start results:', results)"
   ]
  },
  {
   "cell_type": "code",
   "execution_count": null,
   "id": "97487eb8-44e9-4481-b644-e2702f28e884",
   "metadata": {},
   "outputs": [],
   "source": []
  }
 ],
 "metadata": {
  "kernelspec": {
   "display_name": "Python 3 (ipykernel)",
   "language": "python",
   "name": "python3"
  },
  "language_info": {
   "codemirror_mode": {
    "name": "ipython",
    "version": 3
   },
   "file_extension": ".py",
   "mimetype": "text/x-python",
   "name": "python",
   "nbconvert_exporter": "python",
   "pygments_lexer": "ipython3",
   "version": "3.12.6"
  }
 },
 "nbformat": 4,
 "nbformat_minor": 5
}
